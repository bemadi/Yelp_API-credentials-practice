{
 "cells": [
  {
   "cell_type": "code",
   "execution_count": 1,
   "id": "5c7dd154",
   "metadata": {},
   "outputs": [],
   "source": [
    "# Standard Imports\n",
    "import numpy as np\n",
    "import pandas as pd\n",
    "import matplotlib.pyplot as plt\n",
    "import seaborn as sns\n",
    "# Additional Imports\n",
    "import os, json, math, time\n",
    "from yelpapi import YelpAPI\n",
    "from tqdm.notebook import tqdm_notebook"
   ]
  },
  {
   "cell_type": "code",
   "execution_count": 2,
   "id": "1bcd1a24",
   "metadata": {},
   "outputs": [],
   "source": [
    "with open(r\"C:\\Users\\Bijan Emadi\\.secret\\yelp_api.json\") as f: \n",
    "    login = json.load(f)\n",
    "# Instantiate YelpAPI Variable\n",
    "yelp_api = YelpAPI(login['api-key'], timeout_s=5.0)"
   ]
  },
  {
   "cell_type": "code",
   "execution_count": 3,
   "id": "723f9280",
   "metadata": {},
   "outputs": [],
   "source": [
    "LOCATION = 'Oakland, CA, 94501'\n",
    "TERM = 'PHO'"
   ]
  },
  {
   "cell_type": "code",
   "execution_count": 4,
   "id": "88790d65",
   "metadata": {},
   "outputs": [
    {
     "data": {
      "text/plain": [
       "'Data/results_in_progress_pho.json'"
      ]
     },
     "execution_count": 4,
     "metadata": {},
     "output_type": "execute_result"
    }
   ],
   "source": [
    "JSON_FILE = f\"Data/results_in_progress_pho.json\"\n",
    "JSON_FILE"
   ]
  },
  {
   "cell_type": "code",
   "execution_count": 6,
   "id": "0474a1e0",
   "metadata": {},
   "outputs": [
    {
     "name": "stdout",
     "output_type": "stream",
     "text": [
      "[i] Data/results_in_progress_pho.json already exists.\n"
     ]
    }
   ],
   "source": [
    "file_exists = os.path.isfile(JSON_FILE)\n",
    "if file_exists == False:\n",
    "    folder = os.path.dirname(JSON_FILE)\n",
    "    if len(folder)>0:\n",
    "        os.makedirs(folder, exist_ok=True)\n",
    "        \n",
    "    print(f\"[i] {JSON_FILE} not found. Saving empty list to file.\")\n",
    "    \n",
    "    with open(JSON_FILE, 'w') as f:\n",
    "        json.dump([],f)\n",
    "else:\n",
    "    print(f\"[i] {JSON_FILE} already exists.\")\n",
    "    "
   ]
  },
  {
   "cell_type": "code",
   "execution_count": 7,
   "id": "cc2510e8",
   "metadata": {},
   "outputs": [
    {
     "name": "stdout",
     "output_type": "stream",
     "text": [
      "- 0 previous results found.\n"
     ]
    }
   ],
   "source": [
    "with open(JSON_FILE, 'r') as f:\n",
    "    previous_results = json.load(f)\n",
    "    \n",
    "n_results = len(previous_results)\n",
    "print(f'- {n_results} previous results found.')"
   ]
  },
  {
   "cell_type": "code",
   "execution_count": 9,
   "id": "c90716a7",
   "metadata": {},
   "outputs": [
    {
     "data": {
      "text/plain": [
       "dict_keys(['businesses', 'total', 'region'])"
      ]
     },
     "execution_count": 9,
     "metadata": {},
     "output_type": "execute_result"
    }
   ],
   "source": [
    "results = yelp_api.search_query(location=LOCATION,\n",
    "                                     term=TERM,\n",
    "                                     offset=n_results)\n",
    "results.keys()"
   ]
  },
  {
   "cell_type": "code",
   "execution_count": 10,
   "id": "1cf02125",
   "metadata": {},
   "outputs": [
    {
     "data": {
      "text/plain": [
       "125"
      ]
     },
     "execution_count": 10,
     "metadata": {},
     "output_type": "execute_result"
    }
   ],
   "source": [
    "total_results = results['total']\n",
    "total_results"
   ]
  },
  {
   "cell_type": "code",
   "execution_count": 12,
   "id": "775c82f1",
   "metadata": {},
   "outputs": [
    {
     "data": {
      "text/plain": [
       "20"
      ]
     },
     "execution_count": 12,
     "metadata": {},
     "output_type": "execute_result"
    }
   ],
   "source": [
    "results_per_page = len(results['businesses'])\n",
    "results_per_page"
   ]
  },
  {
   "cell_type": "code",
   "execution_count": 13,
   "id": "d693893c",
   "metadata": {},
   "outputs": [
    {
     "data": {
      "text/plain": [
       "7"
      ]
     },
     "execution_count": 13,
     "metadata": {},
     "output_type": "execute_result"
    }
   ],
   "source": [
    "import time, math\n",
    "n_pages = math.ceil((results['total']-n_results)/results_per_page)\n",
    "n_pages"
   ]
  },
  {
   "cell_type": "code",
   "execution_count": 14,
   "id": "1b8cd462",
   "metadata": {},
   "outputs": [],
   "source": [
    "previous_results.extend(results['businesses'])\n",
    "with open(JSON_FILE,'w') as f:\n",
    "    json.dump(previous_results,f)"
   ]
  },
  {
   "cell_type": "code",
   "execution_count": 15,
   "id": "c3dabf3a",
   "metadata": {},
   "outputs": [
    {
     "name": "stdout",
     "output_type": "stream",
     "text": [
      "Requirement already satisfied: tqdm in c:\\users\\bijan emadi\\anaconda\\envs\\dojo-env\\lib\\site-packages (4.64.0)\n",
      "Requirement already satisfied: colorama in c:\\users\\bijan emadi\\anaconda\\envs\\dojo-env\\lib\\site-packages (from tqdm) (0.4.4)\n",
      "Note: you may need to restart the kernel to use updated packages.\n"
     ]
    }
   ],
   "source": [
    "pip install tqdm"
   ]
  },
  {
   "cell_type": "code",
   "execution_count": 16,
   "id": "e89c2eca",
   "metadata": {},
   "outputs": [
    {
     "data": {
      "application/vnd.jupyter.widget-view+json": {
       "model_id": "93300f5f06834d8a94cb18bd3a61ff72",
       "version_major": 2,
       "version_minor": 0
      },
      "text/plain": [
       "  0%|          | 0/7 [00:00<?, ?it/s]"
      ]
     },
     "metadata": {},
     "output_type": "display_data"
    }
   ],
   "source": [
    "from tqdm.notebook import tqdm_notebook\n",
    "import time\n",
    "for i in tqdm_notebook(range(n_pages)):\n",
    "    time.sleep(0.2)"
   ]
  },
  {
   "cell_type": "code",
   "execution_count": 18,
   "id": "f6b31fd6",
   "metadata": {},
   "outputs": [
    {
     "data": {
      "application/vnd.jupyter.widget-view+json": {
       "model_id": "31437438b5944e31b0c0c69a1eef46ce",
       "version_major": 2,
       "version_minor": 0
      },
      "text/plain": [
       "  0%|          | 0/7 [00:00<?, ?it/s]"
      ]
     },
     "metadata": {},
     "output_type": "display_data"
    }
   ],
   "source": [
    "for i in tqdm_notebook(range(1, n_pages+1)):\n",
    "    time.sleep(0.2)\n",
    "    with open(JSON_FILE, 'r') as f:\n",
    "        previous_results = json.load(f)\n",
    "        \n",
    "    n_results = len(previous_results)\n",
    "    results = yelp_api.search_query(location=LOCATION,\n",
    "                                   term=TERM,\n",
    "                                   offset=n_results)\n",
    "    previous_results.extend(results['businesses'])\n",
    "    with open(JSON_FILE, 'w') as f:\n",
    "        json.dump(previous_results, f)"
   ]
  },
  {
   "cell_type": "code",
   "execution_count": 19,
   "id": "55820a62",
   "metadata": {},
   "outputs": [
    {
     "data": {
      "text/html": [
       "<div>\n",
       "<style scoped>\n",
       "    .dataframe tbody tr th:only-of-type {\n",
       "        vertical-align: middle;\n",
       "    }\n",
       "\n",
       "    .dataframe tbody tr th {\n",
       "        vertical-align: top;\n",
       "    }\n",
       "\n",
       "    .dataframe thead th {\n",
       "        text-align: right;\n",
       "    }\n",
       "</style>\n",
       "<table border=\"1\" class=\"dataframe\">\n",
       "  <thead>\n",
       "    <tr style=\"text-align: right;\">\n",
       "      <th></th>\n",
       "      <th>id</th>\n",
       "      <th>alias</th>\n",
       "      <th>name</th>\n",
       "      <th>image_url</th>\n",
       "      <th>is_closed</th>\n",
       "      <th>url</th>\n",
       "      <th>review_count</th>\n",
       "      <th>categories</th>\n",
       "      <th>rating</th>\n",
       "      <th>coordinates</th>\n",
       "      <th>transactions</th>\n",
       "      <th>price</th>\n",
       "      <th>location</th>\n",
       "      <th>phone</th>\n",
       "      <th>display_phone</th>\n",
       "      <th>distance</th>\n",
       "    </tr>\n",
       "  </thead>\n",
       "  <tbody>\n",
       "    <tr>\n",
       "      <th>0</th>\n",
       "      <td>cW8_VvgXmb-d_3tWzBuQow</td>\n",
       "      <td>sidestreet-pho-alameda</td>\n",
       "      <td>Sidestreet Pho</td>\n",
       "      <td>https://s3-media3.fl.yelpcdn.com/bphoto/ABHLry...</td>\n",
       "      <td>False</td>\n",
       "      <td>https://www.yelp.com/biz/sidestreet-pho-alamed...</td>\n",
       "      <td>922</td>\n",
       "      <td>[{'alias': 'vietnamese', 'title': 'Vietnamese'...</td>\n",
       "      <td>4.0</td>\n",
       "      <td>{'latitude': 37.7629323, 'longitude': -122.245...</td>\n",
       "      <td>[delivery, pickup]</td>\n",
       "      <td>$$</td>\n",
       "      <td>{'address1': '2304 Encinal Ave', 'address2': '...</td>\n",
       "      <td>+15108085298</td>\n",
       "      <td>(510) 808-5298</td>\n",
       "      <td>1310.276278</td>\n",
       "    </tr>\n",
       "    <tr>\n",
       "      <th>1</th>\n",
       "      <td>A-YPiGfW6sXwKaR4_HSe5w</td>\n",
       "      <td>pho-nation-express-alameda-2</td>\n",
       "      <td>Pho Nation Express</td>\n",
       "      <td>https://s3-media3.fl.yelpcdn.com/bphoto/a7lSu6...</td>\n",
       "      <td>False</td>\n",
       "      <td>https://www.yelp.com/biz/pho-nation-express-al...</td>\n",
       "      <td>15</td>\n",
       "      <td>[{'alias': 'vietnamese', 'title': 'Vietnamese'}]</td>\n",
       "      <td>4.5</td>\n",
       "      <td>{'latitude': 37.765615, 'longitude': -122.24203}</td>\n",
       "      <td>[delivery, pickup]</td>\n",
       "      <td>NaN</td>\n",
       "      <td>{'address1': '2353 Santa Clara Ave', 'address2...</td>\n",
       "      <td>+15102394187</td>\n",
       "      <td>(510) 239-4187</td>\n",
       "      <td>1426.908471</td>\n",
       "    </tr>\n",
       "    <tr>\n",
       "      <th>2</th>\n",
       "      <td>9khVsJM_HJUlnQBm8Z9AuQ</td>\n",
       "      <td>mint-leaf-vietnamese-restaurant-alameda-2</td>\n",
       "      <td>Mint Leaf Vietnamese Restaurant</td>\n",
       "      <td>https://s3-media2.fl.yelpcdn.com/bphoto/PziXGS...</td>\n",
       "      <td>False</td>\n",
       "      <td>https://www.yelp.com/biz/mint-leaf-vietnamese-...</td>\n",
       "      <td>439</td>\n",
       "      <td>[{'alias': 'vietnamese', 'title': 'Vietnamese'...</td>\n",
       "      <td>4.0</td>\n",
       "      <td>{'latitude': 37.7826864, 'longitude': -122.272...</td>\n",
       "      <td>[delivery, pickup]</td>\n",
       "      <td>$$</td>\n",
       "      <td>{'address1': '831 Marina Village Pkwy', 'addre...</td>\n",
       "      <td>+15105222758</td>\n",
       "      <td>(510) 522-2758</td>\n",
       "      <td>2123.210276</td>\n",
       "    </tr>\n",
       "    <tr>\n",
       "      <th>3</th>\n",
       "      <td>ouAw6oihgt3Ricwcbf1fMA</td>\n",
       "      <td>pho-anh-dao-alameda-alameda</td>\n",
       "      <td>Pho Anh Dao Alameda</td>\n",
       "      <td>https://s3-media2.fl.yelpcdn.com/bphoto/pk5SKY...</td>\n",
       "      <td>False</td>\n",
       "      <td>https://www.yelp.com/biz/pho-anh-dao-alameda-a...</td>\n",
       "      <td>143</td>\n",
       "      <td>[{'alias': 'vietnamese', 'title': 'Vietnamese'}]</td>\n",
       "      <td>3.5</td>\n",
       "      <td>{'latitude': 37.778843, 'longitude': -122.276938}</td>\n",
       "      <td>[delivery]</td>\n",
       "      <td>$$</td>\n",
       "      <td>{'address1': '1919 Webster St', 'address2': ''...</td>\n",
       "      <td>+15102638577</td>\n",
       "      <td>(510) 263-8577</td>\n",
       "      <td>2002.757055</td>\n",
       "    </tr>\n",
       "    <tr>\n",
       "      <th>4</th>\n",
       "      <td>wrJ8EiaJSDuX4IZIIwgK5w</td>\n",
       "      <td>rang-dong-restaurant-alameda-3</td>\n",
       "      <td>Rang Dong Restaurant</td>\n",
       "      <td>https://s3-media3.fl.yelpcdn.com/bphoto/zMmgXT...</td>\n",
       "      <td>False</td>\n",
       "      <td>https://www.yelp.com/biz/rang-dong-restaurant-...</td>\n",
       "      <td>393</td>\n",
       "      <td>[{'alias': 'vietnamese', 'title': 'Vietnamese'...</td>\n",
       "      <td>4.0</td>\n",
       "      <td>{'latitude': 37.771191, 'longitude': -122.277115}</td>\n",
       "      <td>[delivery, pickup]</td>\n",
       "      <td>$$</td>\n",
       "      <td>{'address1': '660 Central Ave', 'address2': 'S...</td>\n",
       "      <td>+15108143938</td>\n",
       "      <td>(510) 814-3938</td>\n",
       "      <td>1731.394832</td>\n",
       "    </tr>\n",
       "  </tbody>\n",
       "</table>\n",
       "</div>"
      ],
      "text/plain": [
       "                       id                                      alias  \\\n",
       "0  cW8_VvgXmb-d_3tWzBuQow                     sidestreet-pho-alameda   \n",
       "1  A-YPiGfW6sXwKaR4_HSe5w               pho-nation-express-alameda-2   \n",
       "2  9khVsJM_HJUlnQBm8Z9AuQ  mint-leaf-vietnamese-restaurant-alameda-2   \n",
       "3  ouAw6oihgt3Ricwcbf1fMA                pho-anh-dao-alameda-alameda   \n",
       "4  wrJ8EiaJSDuX4IZIIwgK5w             rang-dong-restaurant-alameda-3   \n",
       "\n",
       "                              name  \\\n",
       "0                   Sidestreet Pho   \n",
       "1               Pho Nation Express   \n",
       "2  Mint Leaf Vietnamese Restaurant   \n",
       "3              Pho Anh Dao Alameda   \n",
       "4             Rang Dong Restaurant   \n",
       "\n",
       "                                           image_url  is_closed  \\\n",
       "0  https://s3-media3.fl.yelpcdn.com/bphoto/ABHLry...      False   \n",
       "1  https://s3-media3.fl.yelpcdn.com/bphoto/a7lSu6...      False   \n",
       "2  https://s3-media2.fl.yelpcdn.com/bphoto/PziXGS...      False   \n",
       "3  https://s3-media2.fl.yelpcdn.com/bphoto/pk5SKY...      False   \n",
       "4  https://s3-media3.fl.yelpcdn.com/bphoto/zMmgXT...      False   \n",
       "\n",
       "                                                 url  review_count  \\\n",
       "0  https://www.yelp.com/biz/sidestreet-pho-alamed...           922   \n",
       "1  https://www.yelp.com/biz/pho-nation-express-al...            15   \n",
       "2  https://www.yelp.com/biz/mint-leaf-vietnamese-...           439   \n",
       "3  https://www.yelp.com/biz/pho-anh-dao-alameda-a...           143   \n",
       "4  https://www.yelp.com/biz/rang-dong-restaurant-...           393   \n",
       "\n",
       "                                          categories  rating  \\\n",
       "0  [{'alias': 'vietnamese', 'title': 'Vietnamese'...     4.0   \n",
       "1   [{'alias': 'vietnamese', 'title': 'Vietnamese'}]     4.5   \n",
       "2  [{'alias': 'vietnamese', 'title': 'Vietnamese'...     4.0   \n",
       "3   [{'alias': 'vietnamese', 'title': 'Vietnamese'}]     3.5   \n",
       "4  [{'alias': 'vietnamese', 'title': 'Vietnamese'...     4.0   \n",
       "\n",
       "                                         coordinates        transactions  \\\n",
       "0  {'latitude': 37.7629323, 'longitude': -122.245...  [delivery, pickup]   \n",
       "1   {'latitude': 37.765615, 'longitude': -122.24203}  [delivery, pickup]   \n",
       "2  {'latitude': 37.7826864, 'longitude': -122.272...  [delivery, pickup]   \n",
       "3  {'latitude': 37.778843, 'longitude': -122.276938}          [delivery]   \n",
       "4  {'latitude': 37.771191, 'longitude': -122.277115}  [delivery, pickup]   \n",
       "\n",
       "  price                                           location         phone  \\\n",
       "0    $$  {'address1': '2304 Encinal Ave', 'address2': '...  +15108085298   \n",
       "1   NaN  {'address1': '2353 Santa Clara Ave', 'address2...  +15102394187   \n",
       "2    $$  {'address1': '831 Marina Village Pkwy', 'addre...  +15105222758   \n",
       "3    $$  {'address1': '1919 Webster St', 'address2': ''...  +15102638577   \n",
       "4    $$  {'address1': '660 Central Ave', 'address2': 'S...  +15108143938   \n",
       "\n",
       "    display_phone     distance  \n",
       "0  (510) 808-5298  1310.276278  \n",
       "1  (510) 239-4187  1426.908471  \n",
       "2  (510) 522-2758  2123.210276  \n",
       "3  (510) 263-8577  2002.757055  \n",
       "4  (510) 814-3938  1731.394832  "
      ]
     },
     "metadata": {},
     "output_type": "display_data"
    },
    {
     "data": {
      "text/html": [
       "<div>\n",
       "<style scoped>\n",
       "    .dataframe tbody tr th:only-of-type {\n",
       "        vertical-align: middle;\n",
       "    }\n",
       "\n",
       "    .dataframe tbody tr th {\n",
       "        vertical-align: top;\n",
       "    }\n",
       "\n",
       "    .dataframe thead th {\n",
       "        text-align: right;\n",
       "    }\n",
       "</style>\n",
       "<table border=\"1\" class=\"dataframe\">\n",
       "  <thead>\n",
       "    <tr style=\"text-align: right;\">\n",
       "      <th></th>\n",
       "      <th>id</th>\n",
       "      <th>alias</th>\n",
       "      <th>name</th>\n",
       "      <th>image_url</th>\n",
       "      <th>is_closed</th>\n",
       "      <th>url</th>\n",
       "      <th>review_count</th>\n",
       "      <th>categories</th>\n",
       "      <th>rating</th>\n",
       "      <th>coordinates</th>\n",
       "      <th>transactions</th>\n",
       "      <th>price</th>\n",
       "      <th>location</th>\n",
       "      <th>phone</th>\n",
       "      <th>display_phone</th>\n",
       "      <th>distance</th>\n",
       "    </tr>\n",
       "  </thead>\n",
       "  <tbody>\n",
       "    <tr>\n",
       "      <th>120</th>\n",
       "      <td>HAmjavXikrJuPZ0XP9NrSQ</td>\n",
       "      <td>take-it-easy-oakland</td>\n",
       "      <td>Take It Easy</td>\n",
       "      <td>https://s3-media1.fl.yelpcdn.com/bphoto/SeDCUl...</td>\n",
       "      <td>False</td>\n",
       "      <td>https://www.yelp.com/biz/take-it-easy-oakland?...</td>\n",
       "      <td>229</td>\n",
       "      <td>[{'alias': 'thai', 'title': 'Thai'}]</td>\n",
       "      <td>3.5</td>\n",
       "      <td>{'latitude': 37.805700009529, 'longitude': -12...</td>\n",
       "      <td>[delivery]</td>\n",
       "      <td>$</td>\n",
       "      <td>{'address1': '351 17th St', 'address2': '', 'a...</td>\n",
       "      <td>+15104522442</td>\n",
       "      <td>(510) 452-2442</td>\n",
       "      <td>4136.561681</td>\n",
       "    </tr>\n",
       "    <tr>\n",
       "      <th>121</th>\n",
       "      <td>r7fgX1npiwTuxJUgGJY-9Q</td>\n",
       "      <td>lg-supermarket-oakland-2</td>\n",
       "      <td>LG Supermarket</td>\n",
       "      <td>https://s3-media1.fl.yelpcdn.com/bphoto/YYah5Y...</td>\n",
       "      <td>False</td>\n",
       "      <td>https://www.yelp.com/biz/lg-supermarket-oaklan...</td>\n",
       "      <td>15</td>\n",
       "      <td>[{'alias': 'grocery', 'title': 'Grocery'}]</td>\n",
       "      <td>2.5</td>\n",
       "      <td>{'latitude': 37.80017, 'longitude': -122.27005}</td>\n",
       "      <td>[]</td>\n",
       "      <td>$$</td>\n",
       "      <td>{'address1': '325 10th St', 'address2': '', 'a...</td>\n",
       "      <td>+15102388618</td>\n",
       "      <td>(510) 238-8618</td>\n",
       "      <td>3603.422207</td>\n",
       "    </tr>\n",
       "    <tr>\n",
       "      <th>122</th>\n",
       "      <td>9Kgr2MVkcabB40XGmXP90A</td>\n",
       "      <td>pill-hill-deli-oakland</td>\n",
       "      <td>Pill Hill Deli</td>\n",
       "      <td>https://s3-media1.fl.yelpcdn.com/bphoto/ZmSPDa...</td>\n",
       "      <td>False</td>\n",
       "      <td>https://www.yelp.com/biz/pill-hill-deli-oaklan...</td>\n",
       "      <td>61</td>\n",
       "      <td>[{'alias': 'delis', 'title': 'Delis'}]</td>\n",
       "      <td>4.0</td>\n",
       "      <td>{'latitude': 37.81927, 'longitude': -122.26481}</td>\n",
       "      <td>[delivery]</td>\n",
       "      <td>$</td>\n",
       "      <td>{'address1': '400 30th St', 'address2': 'Ste 4...</td>\n",
       "      <td>+15108348819</td>\n",
       "      <td>(510) 834-8819</td>\n",
       "      <td>5585.228697</td>\n",
       "    </tr>\n",
       "    <tr>\n",
       "      <th>123</th>\n",
       "      <td>MCRJyzRfmz16ZpEjYFnHtQ</td>\n",
       "      <td>sun-hop-fat-1-supermarket-oakland</td>\n",
       "      <td>Sun Hop Fat 1 Supermarket</td>\n",
       "      <td>https://s3-media1.fl.yelpcdn.com/bphoto/z6THeM...</td>\n",
       "      <td>False</td>\n",
       "      <td>https://www.yelp.com/biz/sun-hop-fat-1-superma...</td>\n",
       "      <td>89</td>\n",
       "      <td>[{'alias': 'grocery', 'title': 'Grocery'}]</td>\n",
       "      <td>2.5</td>\n",
       "      <td>{'latitude': 37.7946815490723, 'longitude': -1...</td>\n",
       "      <td>[]</td>\n",
       "      <td>$</td>\n",
       "      <td>{'address1': '501 E 12th St', 'address2': '', ...</td>\n",
       "      <td>+15107638888</td>\n",
       "      <td>(510) 763-8888</td>\n",
       "      <td>2836.873781</td>\n",
       "    </tr>\n",
       "    <tr>\n",
       "      <th>124</th>\n",
       "      <td>uAHNKMsRG3A9-DXp7922DQ</td>\n",
       "      <td>smitten-ice-cream-oakland-3</td>\n",
       "      <td>Smitten Ice Cream</td>\n",
       "      <td>https://s3-media1.fl.yelpcdn.com/bphoto/weiPp3...</td>\n",
       "      <td>False</td>\n",
       "      <td>https://www.yelp.com/biz/smitten-ice-cream-oak...</td>\n",
       "      <td>838</td>\n",
       "      <td>[{'alias': 'icecream', 'title': 'Ice Cream &amp; F...</td>\n",
       "      <td>4.0</td>\n",
       "      <td>{'latitude': 37.8461514110041, 'longitude': -1...</td>\n",
       "      <td>[delivery, pickup]</td>\n",
       "      <td>$$</td>\n",
       "      <td>{'address1': '5800 College Ave', 'address2': '...</td>\n",
       "      <td>+15102773720</td>\n",
       "      <td>(510) 277-3720</td>\n",
       "      <td>8555.370636</td>\n",
       "    </tr>\n",
       "  </tbody>\n",
       "</table>\n",
       "</div>"
      ],
      "text/plain": [
       "                         id                              alias  \\\n",
       "120  HAmjavXikrJuPZ0XP9NrSQ               take-it-easy-oakland   \n",
       "121  r7fgX1npiwTuxJUgGJY-9Q           lg-supermarket-oakland-2   \n",
       "122  9Kgr2MVkcabB40XGmXP90A             pill-hill-deli-oakland   \n",
       "123  MCRJyzRfmz16ZpEjYFnHtQ  sun-hop-fat-1-supermarket-oakland   \n",
       "124  uAHNKMsRG3A9-DXp7922DQ        smitten-ice-cream-oakland-3   \n",
       "\n",
       "                          name  \\\n",
       "120               Take It Easy   \n",
       "121             LG Supermarket   \n",
       "122             Pill Hill Deli   \n",
       "123  Sun Hop Fat 1 Supermarket   \n",
       "124          Smitten Ice Cream   \n",
       "\n",
       "                                             image_url  is_closed  \\\n",
       "120  https://s3-media1.fl.yelpcdn.com/bphoto/SeDCUl...      False   \n",
       "121  https://s3-media1.fl.yelpcdn.com/bphoto/YYah5Y...      False   \n",
       "122  https://s3-media1.fl.yelpcdn.com/bphoto/ZmSPDa...      False   \n",
       "123  https://s3-media1.fl.yelpcdn.com/bphoto/z6THeM...      False   \n",
       "124  https://s3-media1.fl.yelpcdn.com/bphoto/weiPp3...      False   \n",
       "\n",
       "                                                   url  review_count  \\\n",
       "120  https://www.yelp.com/biz/take-it-easy-oakland?...           229   \n",
       "121  https://www.yelp.com/biz/lg-supermarket-oaklan...            15   \n",
       "122  https://www.yelp.com/biz/pill-hill-deli-oaklan...            61   \n",
       "123  https://www.yelp.com/biz/sun-hop-fat-1-superma...            89   \n",
       "124  https://www.yelp.com/biz/smitten-ice-cream-oak...           838   \n",
       "\n",
       "                                            categories  rating  \\\n",
       "120               [{'alias': 'thai', 'title': 'Thai'}]     3.5   \n",
       "121         [{'alias': 'grocery', 'title': 'Grocery'}]     2.5   \n",
       "122             [{'alias': 'delis', 'title': 'Delis'}]     4.0   \n",
       "123         [{'alias': 'grocery', 'title': 'Grocery'}]     2.5   \n",
       "124  [{'alias': 'icecream', 'title': 'Ice Cream & F...     4.0   \n",
       "\n",
       "                                           coordinates        transactions  \\\n",
       "120  {'latitude': 37.805700009529, 'longitude': -12...          [delivery]   \n",
       "121    {'latitude': 37.80017, 'longitude': -122.27005}                  []   \n",
       "122    {'latitude': 37.81927, 'longitude': -122.26481}          [delivery]   \n",
       "123  {'latitude': 37.7946815490723, 'longitude': -1...                  []   \n",
       "124  {'latitude': 37.8461514110041, 'longitude': -1...  [delivery, pickup]   \n",
       "\n",
       "    price                                           location         phone  \\\n",
       "120     $  {'address1': '351 17th St', 'address2': '', 'a...  +15104522442   \n",
       "121    $$  {'address1': '325 10th St', 'address2': '', 'a...  +15102388618   \n",
       "122     $  {'address1': '400 30th St', 'address2': 'Ste 4...  +15108348819   \n",
       "123     $  {'address1': '501 E 12th St', 'address2': '', ...  +15107638888   \n",
       "124    $$  {'address1': '5800 College Ave', 'address2': '...  +15102773720   \n",
       "\n",
       "      display_phone     distance  \n",
       "120  (510) 452-2442  4136.561681  \n",
       "121  (510) 238-8618  3603.422207  \n",
       "122  (510) 834-8819  5585.228697  \n",
       "123  (510) 763-8888  2836.873781  \n",
       "124  (510) 277-3720  8555.370636  "
      ]
     },
     "metadata": {},
     "output_type": "display_data"
    }
   ],
   "source": [
    "final_df = pd.read_json(JSON_FILE)\n",
    "display(final_df.head(), final_df.tail())"
   ]
  },
  {
   "cell_type": "code",
   "execution_count": 20,
   "id": "7b2c321f",
   "metadata": {},
   "outputs": [
    {
     "data": {
      "text/plain": [
       "1"
      ]
     },
     "execution_count": 20,
     "metadata": {},
     "output_type": "execute_result"
    }
   ],
   "source": [
    "final_df.duplicated(subset='id').sum()"
   ]
  },
  {
   "cell_type": "code",
   "execution_count": 21,
   "id": "24d6a7a6",
   "metadata": {},
   "outputs": [],
   "source": [
    "final_df.to_csv('Data/final_results_pho.csv.gz', compression='gzip', index=False)"
   ]
  }
 ],
 "metadata": {
  "kernelspec": {
   "display_name": "Python (dojo-env)",
   "language": "python",
   "name": "dojo.env"
  },
  "language_info": {
   "codemirror_mode": {
    "name": "ipython",
    "version": 3
   },
   "file_extension": ".py",
   "mimetype": "text/x-python",
   "name": "python",
   "nbconvert_exporter": "python",
   "pygments_lexer": "ipython3",
   "version": "3.7.12"
  },
  "toc": {
   "base_numbering": 1,
   "nav_menu": {},
   "number_sections": false,
   "sideBar": true,
   "skip_h1_title": false,
   "title_cell": "Table of Contents",
   "title_sidebar": "Contents",
   "toc_cell": false,
   "toc_position": {},
   "toc_section_display": true,
   "toc_window_display": false
  }
 },
 "nbformat": 4,
 "nbformat_minor": 5
}
