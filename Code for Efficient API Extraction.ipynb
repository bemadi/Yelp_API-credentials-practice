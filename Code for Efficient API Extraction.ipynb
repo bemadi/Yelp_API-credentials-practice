{
 "cells": [
  {
   "cell_type": "code",
   "execution_count": 1,
   "id": "72d24c91",
   "metadata": {},
   "outputs": [],
   "source": [
    "# Standard Imports\n",
    "import numpy as np\n",
    "import pandas as pd\n",
    "import matplotlib.pyplot as plt\n",
    "import seaborn as sns\n",
    "# Additional Imports\n",
    "import os, json, math, time\n",
    "from yelpapi import YelpAPI\n",
    "from tqdm.notebook import tqdm_notebook"
   ]
  },
  {
   "cell_type": "markdown",
   "id": "fc00748c",
   "metadata": {},
   "source": [
    "**Credentials and Accessing the API**"
   ]
  },
  {
   "cell_type": "code",
   "execution_count": 2,
   "id": "fb629c27",
   "metadata": {},
   "outputs": [],
   "source": [
    "# Load API Credentials\n",
    "with open(r\"C:\\Users\\Bijan Emadi\\.secret\\yelp_api.json\") as f:   #use your path here!\n",
    "    login = json.load(f)\n",
    "# Instantiate YelpAPI Variable\n",
    "yelp_api = YelpAPI(login['api-key'], timeout_s=5.0)"
   ]
  },
  {
   "cell_type": "markdown",
   "id": "6ed36d58",
   "metadata": {},
   "source": [
    "**Define Search**\n",
    "\n",
    "To allow us to easily perform different searches in the future, we will define variables for LOCATION and TERM set for our particular search conditions. Then when we want to use a different location or term, we can just redefine the variables. This streamlines our code and makes it more readable and reproducible. "
   ]
  },
  {
   "cell_type": "code",
   "execution_count": 3,
   "id": "76311128",
   "metadata": {},
   "outputs": [],
   "source": [
    "# set our API call parameters and filename before the first call\n",
    "LOCATION = 'Baltimore, MD,21202'\n",
    "TERM = 'Crab Cakes'"
   ]
  },
  {
   "cell_type": "markdown",
   "id": "20ac4f4f",
   "metadata": {},
   "source": [
    "**Create a results-in-progress JSON file, but only if it doesn't exist**\n",
    "\n",
    "This is the file where your results will be saved. Note: you must rename your JSON_FILE for different queries to prevent confusing results from other searches. We recommend you include your search terms in the filename."
   ]
  },
  {
   "cell_type": "code",
   "execution_count": 4,
   "id": "411da000",
   "metadata": {},
   "outputs": [
    {
     "data": {
      "text/plain": [
       "'Data/results_in_progress_Crab_cakes.json'"
      ]
     },
     "execution_count": 4,
     "metadata": {},
     "output_type": "execute_result"
    }
   ],
   "source": [
    "# Specifying JSON_FILE filename (can include a folder)\n",
    "# include the search terms in the filename\n",
    "JSON_FILE = f\"Data/results_in_progress_Crab_cakes.json\"\n",
    "JSON_FILE"
   ]
  },
  {
   "cell_type": "code",
   "execution_count": 5,
   "id": "8226ad17",
   "metadata": {},
   "outputs": [
    {
     "name": "stdout",
     "output_type": "stream",
     "text": [
      "[i] Data/results_in_progress_Crab_cakes.json not found. Saving empty list to file.\n"
     ]
    }
   ],
   "source": [
    "## Check if JSON_FILE exists\n",
    "file_exists = os.path.isfile(JSON_FILE)\n",
    "## If it does not exist: \n",
    "if file_exists == False:\n",
    "    \n",
    "    ## CREATE ANY NEEDED FOLDERS\n",
    "    # Get the Folder Name only\n",
    "    folder = os.path.dirname(JSON_FILE)\n",
    "    ## If JSON_FILE included a folder:\n",
    "    if len(folder)>0:\n",
    "        # create the folder\n",
    "        os.makedirs(folder,exist_ok=True)\n",
    "        \n",
    "        \n",
    "    ## INFORM USER AND SAVE EMPTY LIST\n",
    "    print(f\"[i] {JSON_FILE} not found. Saving empty list to file.\")\n",
    "    \n",
    "    \n",
    "    ## save the first page of results\n",
    "    with open(JSON_FILE,'w') as f:\n",
    "        json.dump([],f)  \n",
    "## If it exists, inform user\n",
    "else:\n",
    "    print(f\"[i] {JSON_FILE} already exists.\")"
   ]
  },
  {
   "cell_type": "markdown",
   "id": "ece142f9",
   "metadata": {},
   "source": [
    "**Determine how many results are already in the file**\n",
    "\n",
    "Load the results file to determine the # of results we have previously retrieved, If you just created the file, you would expect it to be empty. \n",
    "\n",
    "We will use this as our offset parameter for our API call. Even if this is your first API call, and the number is 0, we want to define 'n_results' based on the length of 'previous_results'"
   ]
  },
  {
   "cell_type": "code",
   "execution_count": 6,
   "id": "12fced5b",
   "metadata": {},
   "outputs": [
    {
     "name": "stdout",
     "output_type": "stream",
     "text": [
      "- 0 previous results found.\n"
     ]
    }
   ],
   "source": [
    "## Load previous results and use len of results for offset\n",
    "with open(JSON_FILE,'r') as f:\n",
    "    previous_results = json.load(f)\n",
    "    \n",
    "## set offset based on previous results\n",
    "n_results = len(previous_results)\n",
    "print(f'- {n_results} previous results found.')"
   ]
  },
  {
   "cell_type": "markdown",
   "id": "8834a947",
   "metadata": {},
   "source": [
    "**Figure out how many pages of results we will need**\n",
    "\n",
    "We will perform our first query to get our first page of results and the total number of results. We will then (via code) calculate how many pages we will need to retrieve all of our results."
   ]
  },
  {
   "cell_type": "code",
   "execution_count": 7,
   "id": "134f1666",
   "metadata": {},
   "outputs": [
    {
     "data": {
      "text/plain": [
       "dict_keys(['businesses', 'total', 'region'])"
      ]
     },
     "execution_count": 7,
     "metadata": {},
     "output_type": "execute_result"
    }
   ],
   "source": [
    "# use our yelp_api variable's search_query method to perform our API call\n",
    "results = yelp_api.search_query(location=LOCATION,\n",
    "                                term=TERM,\n",
    "                               offset=n_results)\n",
    "results.keys()"
   ]
  },
  {
   "cell_type": "code",
   "execution_count": 8,
   "id": "49f6af8d",
   "metadata": {},
   "outputs": [
    {
     "data": {
      "text/plain": [
       "434"
      ]
     },
     "execution_count": 8,
     "metadata": {},
     "output_type": "execute_result"
    }
   ],
   "source": [
    "## How many results total?\n",
    "total_results = results['total']\n",
    "total_results"
   ]
  },
  {
   "cell_type": "code",
   "execution_count": 9,
   "id": "a26df47c",
   "metadata": {},
   "outputs": [
    {
     "data": {
      "text/plain": [
       "20"
      ]
     },
     "execution_count": 9,
     "metadata": {},
     "output_type": "execute_result"
    }
   ],
   "source": [
    "## How many did we get the details for?\n",
    "results_per_page = len(results['businesses'])\n",
    "results_per_page"
   ]
  },
  {
   "cell_type": "markdown",
   "id": "91d9d856",
   "metadata": {},
   "source": [
    "There are over 400 businesses to retrieve from our API and we can get 20 results at a time per 'page'\n",
    "- We can calculate the # of results remaining by subtracting our offset (length of our previous results) from our total.\n",
    "- Then we can determine how many pages we will need by dividing the results by 20 (or whatever the value happens to be for results per page)\n",
    "- Note that we need to round up the number of pages in order to get all of the results. Even if there is only 1 result on the last page, we want to include that page! "
   ]
  },
  {
   "cell_type": "code",
   "execution_count": 10,
   "id": "aa3f3240",
   "metadata": {},
   "outputs": [
    {
     "data": {
      "text/plain": [
       "22"
      ]
     },
     "execution_count": 10,
     "metadata": {},
     "output_type": "execute_result"
    }
   ],
   "source": [
    "# Import additional packages for controlling our loop\n",
    "import time, math\n",
    "# Use math.ceil to round up for the total number of pages of results.\n",
    "n_pages = math.ceil((results['total']-n_results)/ results_per_page)\n",
    "n_pages"
   ]
  },
  {
   "cell_type": "markdown",
   "id": "2592ace9",
   "metadata": {},
   "source": [
    "When this example was written, there were 437 results and 20 results per page. 437/20=21.85. Rounding up gives us 22 pages. We expect the first 21 pages to have 20 results and the last page to have the final 17. Notice that we have assigned the number of pages as n_pages here. We will use this value in our  next segment of code. \n",
    "\n",
    "You can see that having to manually go through 22 pages would be quite time consuming and inefficient. First, we are going to save the first page into our file, and then we will add on to it with our for loop.\n",
    "\n",
    "**Add this page of results to .json file**\n",
    "\n",
    "Our API returns our results in JSON format, with the businesses in a list of dictionaries. We will append the first page of businesses to our previous_results (which is very likely empty) and then save to disk."
   ]
  },
  {
   "cell_type": "code",
   "execution_count": 11,
   "id": "57c8e5e5",
   "metadata": {},
   "outputs": [],
   "source": [
    "# join new results with old list with extend and save to file\n",
    "previous_results.extend(results['businesses'])  \n",
    "with open(JSON_FILE,'w') as f:\n",
    "     json.dump(previous_results,f)"
   ]
  },
  {
   "cell_type": "markdown",
   "id": "14d5e90d",
   "metadata": {},
   "source": [
    "**Set up a progress bar in our for loop**\n",
    "\n",
    "TQDM is a package designed for adding animated progress bars to Python processes. **It is not currently included in your dojo-env, so you are going to install it manually** by opening a new Terminal/GitBash window and running the following command. "
   ]
  },
  {
   "cell_type": "code",
   "execution_count": 12,
   "id": "e57df9a9",
   "metadata": {},
   "outputs": [
    {
     "name": "stdout",
     "output_type": "stream",
     "text": [
      "Requirement already satisfied: tqdm in c:\\users\\bijan emadi\\anaconda\\envs\\dojo-env\\lib\\site-packages (4.64.0)\n",
      "Requirement already satisfied: colorama in c:\\users\\bijan emadi\\anaconda\\envs\\dojo-env\\lib\\site-packages (from tqdm) (0.4.4)\n",
      "Note: you may need to restart the kernel to use updated packages.\n"
     ]
    }
   ],
   "source": [
    "pip install tqdm"
   ]
  },
  {
   "cell_type": "code",
   "execution_count": 13,
   "id": "ccd990db",
   "metadata": {},
   "outputs": [
    {
     "data": {
      "application/vnd.jupyter.widget-view+json": {
       "model_id": "55d9fa33958a4be5a30ee99962861752",
       "version_major": 2,
       "version_minor": 0
      },
      "text/plain": [
       "  0%|          | 0/22 [00:00<?, ?it/s]"
      ]
     },
     "metadata": {},
     "output_type": "display_data"
    }
   ],
   "source": [
    "from tqdm.notebook import tqdm_notebook\n",
    "import time\n",
    "for i in tqdm_notebook(range(n_pages)):\n",
    "    # adds 200 ms pause\n",
    "    time.sleep(.2) "
   ]
  },
  {
   "cell_type": "markdown",
   "id": "d2b36bcf",
   "metadata": {},
   "source": [
    "**For loop to call each page**\n",
    "\n",
    "The loop below will iterate through each page of the results by starting at the appropriate offset. It will then append the results to the previous_results. This may take some time, so check out the progress bar!"
   ]
  },
  {
   "cell_type": "code",
   "execution_count": 14,
   "id": "6a706c19",
   "metadata": {},
   "outputs": [
    {
     "data": {
      "application/vnd.jupyter.widget-view+json": {
       "model_id": "62bc43c5cf9c499786cf7351d01e7e7f",
       "version_major": 2,
       "version_minor": 0
      },
      "text/plain": [
       "  0%|          | 0/22 [00:00<?, ?it/s]"
      ]
     },
     "metadata": {},
     "output_type": "display_data"
    }
   ],
   "source": [
    "for i in tqdm_notebook( range(1,n_pages+1)):\n",
    "    time.sleep(.2)\n",
    "    ## Read in results in progress file and check the length\n",
    "    with open(JSON_FILE, 'r') as f:\n",
    "        previous_results = json.load(f)\n",
    "    ## save number of results for to use as offset\n",
    "    n_results = len(previous_results)\n",
    "    ## use n_results as the OFFSET \n",
    "    results = yelp_api.search_query(location=LOCATION,\n",
    "                                    term=TERM, \n",
    "                                    offset=n_results)\n",
    "    \n",
    "    ## append new results and save to file\n",
    "    previous_results.extend(results['businesses'])\n",
    "    \n",
    "#     display(previous_results)\n",
    "    with open(JSON_FILE,'w') as f:\n",
    "        json.dump(previous_results,f)"
   ]
  },
  {
   "cell_type": "markdown",
   "id": "d079735e",
   "metadata": {},
   "source": [
    "**After the loop has finished**\n",
    "\n",
    "Convert .json to dataframe, load the 'results in progress' JSON file into a dataframe"
   ]
  },
  {
   "cell_type": "code",
   "execution_count": 15,
   "id": "a4eec769",
   "metadata": {
    "scrolled": true
   },
   "outputs": [
    {
     "data": {
      "text/html": [
       "<div>\n",
       "<style scoped>\n",
       "    .dataframe tbody tr th:only-of-type {\n",
       "        vertical-align: middle;\n",
       "    }\n",
       "\n",
       "    .dataframe tbody tr th {\n",
       "        vertical-align: top;\n",
       "    }\n",
       "\n",
       "    .dataframe thead th {\n",
       "        text-align: right;\n",
       "    }\n",
       "</style>\n",
       "<table border=\"1\" class=\"dataframe\">\n",
       "  <thead>\n",
       "    <tr style=\"text-align: right;\">\n",
       "      <th></th>\n",
       "      <th>id</th>\n",
       "      <th>alias</th>\n",
       "      <th>name</th>\n",
       "      <th>image_url</th>\n",
       "      <th>is_closed</th>\n",
       "      <th>url</th>\n",
       "      <th>review_count</th>\n",
       "      <th>categories</th>\n",
       "      <th>rating</th>\n",
       "      <th>coordinates</th>\n",
       "      <th>transactions</th>\n",
       "      <th>price</th>\n",
       "      <th>location</th>\n",
       "      <th>phone</th>\n",
       "      <th>display_phone</th>\n",
       "      <th>distance</th>\n",
       "    </tr>\n",
       "  </thead>\n",
       "  <tbody>\n",
       "    <tr>\n",
       "      <th>0</th>\n",
       "      <td>D9A33FM394q99o4QtK5YwA</td>\n",
       "      <td>faidleys-seafood-baltimore-3</td>\n",
       "      <td>Faidley's Seafood</td>\n",
       "      <td>https://s3-media3.fl.yelpcdn.com/bphoto/8j3ynZ...</td>\n",
       "      <td>False</td>\n",
       "      <td>https://www.yelp.com/biz/faidleys-seafood-balt...</td>\n",
       "      <td>1195</td>\n",
       "      <td>[{'alias': 'seafood', 'title': 'Seafood'}, {'a...</td>\n",
       "      <td>4.0</td>\n",
       "      <td>{'latitude': 39.291696, 'longitude': -76.62224}</td>\n",
       "      <td>[delivery]</td>\n",
       "      <td>$$</td>\n",
       "      <td>{'address1': '203 N Paca St', 'address2': '', ...</td>\n",
       "      <td>+14107274898</td>\n",
       "      <td>(410) 727-4898</td>\n",
       "      <td>1349.560720</td>\n",
       "    </tr>\n",
       "    <tr>\n",
       "      <th>1</th>\n",
       "      <td>ieS_5zqxDHcWMCm8BKUYbg</td>\n",
       "      <td>thames-street-oyster-house-baltimore</td>\n",
       "      <td>Thames Street Oyster House</td>\n",
       "      <td>https://s3-media1.fl.yelpcdn.com/bphoto/9hGjo5...</td>\n",
       "      <td>False</td>\n",
       "      <td>https://www.yelp.com/biz/thames-street-oyster-...</td>\n",
       "      <td>2747</td>\n",
       "      <td>[{'alias': 'seafood', 'title': 'Seafood'}, {'a...</td>\n",
       "      <td>4.5</td>\n",
       "      <td>{'latitude': 39.28214, 'longitude': -76.59162}</td>\n",
       "      <td>[delivery]</td>\n",
       "      <td>$$$</td>\n",
       "      <td>{'address1': '1728 Thames St', 'address2': '',...</td>\n",
       "      <td>+14434497726</td>\n",
       "      <td>(443) 449-7726</td>\n",
       "      <td>2090.712792</td>\n",
       "    </tr>\n",
       "    <tr>\n",
       "      <th>2</th>\n",
       "      <td>u65W69AhbjUlvJJBkEhGNQ</td>\n",
       "      <td>miss-shirleys-cafe-baltimore-9</td>\n",
       "      <td>Miss Shirley's Cafe</td>\n",
       "      <td>https://s3-media4.fl.yelpcdn.com/bphoto/9FsOyV...</td>\n",
       "      <td>False</td>\n",
       "      <td>https://www.yelp.com/biz/miss-shirleys-cafe-ba...</td>\n",
       "      <td>2959</td>\n",
       "      <td>[{'alias': 'breakfast_brunch', 'title': 'Break...</td>\n",
       "      <td>4.0</td>\n",
       "      <td>{'latitude': 39.2870995, 'longitude': -76.6053...</td>\n",
       "      <td>[delivery]</td>\n",
       "      <td>$$</td>\n",
       "      <td>{'address1': '750 E Pratt St', 'address2': '',...</td>\n",
       "      <td>+14105285373</td>\n",
       "      <td>(410) 528-5373</td>\n",
       "      <td>1028.736468</td>\n",
       "    </tr>\n",
       "    <tr>\n",
       "      <th>3</th>\n",
       "      <td>fdo4pqfSYjQyW5_-rElfew</td>\n",
       "      <td>faidley-s-seafood-baltimore-2</td>\n",
       "      <td>Faidley’s Seafood</td>\n",
       "      <td>https://s3-media4.fl.yelpcdn.com/bphoto/7aCi2U...</td>\n",
       "      <td>False</td>\n",
       "      <td>https://www.yelp.com/biz/faidley-s-seafood-bal...</td>\n",
       "      <td>40</td>\n",
       "      <td>[{'alias': 'seafoodmarkets', 'title': 'Seafood...</td>\n",
       "      <td>4.0</td>\n",
       "      <td>{'latitude': 39.2915897, 'longitude': -76.6222...</td>\n",
       "      <td>[]</td>\n",
       "      <td>$</td>\n",
       "      <td>{'address1': '203 N Paca St', 'address2': '', ...</td>\n",
       "      <td>+14107526461</td>\n",
       "      <td>(410) 752-6461</td>\n",
       "      <td>1342.513104</td>\n",
       "    </tr>\n",
       "    <tr>\n",
       "      <th>4</th>\n",
       "      <td>6am8TZAFnvND52MOz-Yctg</td>\n",
       "      <td>mamas-on-the-half-shell-baltimore</td>\n",
       "      <td>Mama's On The Half Shell</td>\n",
       "      <td>https://s3-media2.fl.yelpcdn.com/bphoto/HWY8OF...</td>\n",
       "      <td>False</td>\n",
       "      <td>https://www.yelp.com/biz/mamas-on-the-half-she...</td>\n",
       "      <td>1292</td>\n",
       "      <td>[{'alias': 'bars', 'title': 'Bars'}, {'alias':...</td>\n",
       "      <td>4.0</td>\n",
       "      <td>{'latitude': 39.27986, 'longitude': -76.5752399}</td>\n",
       "      <td>[delivery, pickup]</td>\n",
       "      <td>$$</td>\n",
       "      <td>{'address1': '2901 Odonnell St', 'address2': '...</td>\n",
       "      <td>+14102763160</td>\n",
       "      <td>(410) 276-3160</td>\n",
       "      <td>3328.825798</td>\n",
       "    </tr>\n",
       "  </tbody>\n",
       "</table>\n",
       "</div>"
      ],
      "text/plain": [
       "                       id                                 alias  \\\n",
       "0  D9A33FM394q99o4QtK5YwA          faidleys-seafood-baltimore-3   \n",
       "1  ieS_5zqxDHcWMCm8BKUYbg  thames-street-oyster-house-baltimore   \n",
       "2  u65W69AhbjUlvJJBkEhGNQ        miss-shirleys-cafe-baltimore-9   \n",
       "3  fdo4pqfSYjQyW5_-rElfew         faidley-s-seafood-baltimore-2   \n",
       "4  6am8TZAFnvND52MOz-Yctg     mamas-on-the-half-shell-baltimore   \n",
       "\n",
       "                         name  \\\n",
       "0           Faidley's Seafood   \n",
       "1  Thames Street Oyster House   \n",
       "2         Miss Shirley's Cafe   \n",
       "3           Faidley’s Seafood   \n",
       "4    Mama's On The Half Shell   \n",
       "\n",
       "                                           image_url  is_closed  \\\n",
       "0  https://s3-media3.fl.yelpcdn.com/bphoto/8j3ynZ...      False   \n",
       "1  https://s3-media1.fl.yelpcdn.com/bphoto/9hGjo5...      False   \n",
       "2  https://s3-media4.fl.yelpcdn.com/bphoto/9FsOyV...      False   \n",
       "3  https://s3-media4.fl.yelpcdn.com/bphoto/7aCi2U...      False   \n",
       "4  https://s3-media2.fl.yelpcdn.com/bphoto/HWY8OF...      False   \n",
       "\n",
       "                                                 url  review_count  \\\n",
       "0  https://www.yelp.com/biz/faidleys-seafood-balt...          1195   \n",
       "1  https://www.yelp.com/biz/thames-street-oyster-...          2747   \n",
       "2  https://www.yelp.com/biz/miss-shirleys-cafe-ba...          2959   \n",
       "3  https://www.yelp.com/biz/faidley-s-seafood-bal...            40   \n",
       "4  https://www.yelp.com/biz/mamas-on-the-half-she...          1292   \n",
       "\n",
       "                                          categories  rating  \\\n",
       "0  [{'alias': 'seafood', 'title': 'Seafood'}, {'a...     4.0   \n",
       "1  [{'alias': 'seafood', 'title': 'Seafood'}, {'a...     4.5   \n",
       "2  [{'alias': 'breakfast_brunch', 'title': 'Break...     4.0   \n",
       "3  [{'alias': 'seafoodmarkets', 'title': 'Seafood...     4.0   \n",
       "4  [{'alias': 'bars', 'title': 'Bars'}, {'alias':...     4.0   \n",
       "\n",
       "                                         coordinates        transactions  \\\n",
       "0    {'latitude': 39.291696, 'longitude': -76.62224}          [delivery]   \n",
       "1     {'latitude': 39.28214, 'longitude': -76.59162}          [delivery]   \n",
       "2  {'latitude': 39.2870995, 'longitude': -76.6053...          [delivery]   \n",
       "3  {'latitude': 39.2915897, 'longitude': -76.6222...                  []   \n",
       "4   {'latitude': 39.27986, 'longitude': -76.5752399}  [delivery, pickup]   \n",
       "\n",
       "  price                                           location         phone  \\\n",
       "0    $$  {'address1': '203 N Paca St', 'address2': '', ...  +14107274898   \n",
       "1   $$$  {'address1': '1728 Thames St', 'address2': '',...  +14434497726   \n",
       "2    $$  {'address1': '750 E Pratt St', 'address2': '',...  +14105285373   \n",
       "3     $  {'address1': '203 N Paca St', 'address2': '', ...  +14107526461   \n",
       "4    $$  {'address1': '2901 Odonnell St', 'address2': '...  +14102763160   \n",
       "\n",
       "    display_phone     distance  \n",
       "0  (410) 727-4898  1349.560720  \n",
       "1  (443) 449-7726  2090.712792  \n",
       "2  (410) 528-5373  1028.736468  \n",
       "3  (410) 752-6461  1342.513104  \n",
       "4  (410) 276-3160  3328.825798  "
      ]
     },
     "metadata": {},
     "output_type": "display_data"
    },
    {
     "data": {
      "text/html": [
       "<div>\n",
       "<style scoped>\n",
       "    .dataframe tbody tr th:only-of-type {\n",
       "        vertical-align: middle;\n",
       "    }\n",
       "\n",
       "    .dataframe tbody tr th {\n",
       "        vertical-align: top;\n",
       "    }\n",
       "\n",
       "    .dataframe thead th {\n",
       "        text-align: right;\n",
       "    }\n",
       "</style>\n",
       "<table border=\"1\" class=\"dataframe\">\n",
       "  <thead>\n",
       "    <tr style=\"text-align: right;\">\n",
       "      <th></th>\n",
       "      <th>id</th>\n",
       "      <th>alias</th>\n",
       "      <th>name</th>\n",
       "      <th>image_url</th>\n",
       "      <th>is_closed</th>\n",
       "      <th>url</th>\n",
       "      <th>review_count</th>\n",
       "      <th>categories</th>\n",
       "      <th>rating</th>\n",
       "      <th>coordinates</th>\n",
       "      <th>transactions</th>\n",
       "      <th>price</th>\n",
       "      <th>location</th>\n",
       "      <th>phone</th>\n",
       "      <th>display_phone</th>\n",
       "      <th>distance</th>\n",
       "    </tr>\n",
       "  </thead>\n",
       "  <tbody>\n",
       "    <tr>\n",
       "      <th>421</th>\n",
       "      <td>BRJ1HbKcfDg7axFWWhUNzA</td>\n",
       "      <td>golden-west-cafe-baltimore-3</td>\n",
       "      <td>Golden West Cafe</td>\n",
       "      <td>https://s3-media2.fl.yelpcdn.com/bphoto/Tq43MA...</td>\n",
       "      <td>False</td>\n",
       "      <td>https://www.yelp.com/biz/golden-west-cafe-balt...</td>\n",
       "      <td>861</td>\n",
       "      <td>[{'alias': 'cafes', 'title': 'Cafes'}, {'alias...</td>\n",
       "      <td>3.5</td>\n",
       "      <td>{'latitude': 39.3308895, 'longitude': -76.6340...</td>\n",
       "      <td>[delivery, pickup]</td>\n",
       "      <td>$$</td>\n",
       "      <td>{'address1': '1105 W 36th St', 'address2': '',...</td>\n",
       "      <td>+14108898891</td>\n",
       "      <td>(410) 889-8891</td>\n",
       "      <td>4475.257151</td>\n",
       "    </tr>\n",
       "    <tr>\n",
       "      <th>422</th>\n",
       "      <td>nA8hY_b-yD4U_PQGWGmw9Q</td>\n",
       "      <td>american-wings-and-pizza-baltimore</td>\n",
       "      <td>American Wings &amp; Pizza</td>\n",
       "      <td>https://s3-media2.fl.yelpcdn.com/bphoto/mYgJ5p...</td>\n",
       "      <td>False</td>\n",
       "      <td>https://www.yelp.com/biz/american-wings-and-pi...</td>\n",
       "      <td>59</td>\n",
       "      <td>[{'alias': 'pizza', 'title': 'Pizza'}, {'alias...</td>\n",
       "      <td>2.5</td>\n",
       "      <td>{'latitude': 39.3165, 'longitude': -76.61556}</td>\n",
       "      <td>[delivery, pickup]</td>\n",
       "      <td>$</td>\n",
       "      <td>{'address1': '2400 St Paul St', 'address2': ''...</td>\n",
       "      <td>+14102352300</td>\n",
       "      <td>(410) 235-2300</td>\n",
       "      <td>2361.614576</td>\n",
       "    </tr>\n",
       "    <tr>\n",
       "      <th>423</th>\n",
       "      <td>WVQqkLAKowuIe51IVNXCZA</td>\n",
       "      <td>outback-steakhouse-baltimore</td>\n",
       "      <td>Outback Steakhouse</td>\n",
       "      <td>https://s3-media2.fl.yelpcdn.com/bphoto/NzwBx9...</td>\n",
       "      <td>False</td>\n",
       "      <td>https://www.yelp.com/biz/outback-steakhouse-ba...</td>\n",
       "      <td>135</td>\n",
       "      <td>[{'alias': 'steak', 'title': 'Steakhouses'}]</td>\n",
       "      <td>3.0</td>\n",
       "      <td>{'latitude': 39.2817468, 'longitude': -76.5816...</td>\n",
       "      <td>[delivery, pickup]</td>\n",
       "      <td>$$</td>\n",
       "      <td>{'address1': '2400 Boston St', 'address2': '',...</td>\n",
       "      <td>+14105227757</td>\n",
       "      <td>(410) 522-7757</td>\n",
       "      <td>2755.986468</td>\n",
       "    </tr>\n",
       "    <tr>\n",
       "      <th>424</th>\n",
       "      <td>rtlLrtUn35c9Y2eIcxHT8g</td>\n",
       "      <td>kings-pizza-and-subs-baltimore-2</td>\n",
       "      <td>King's Pizza &amp; Subs</td>\n",
       "      <td>https://s3-media2.fl.yelpcdn.com/bphoto/9FEdeU...</td>\n",
       "      <td>False</td>\n",
       "      <td>https://www.yelp.com/biz/kings-pizza-and-subs-...</td>\n",
       "      <td>75</td>\n",
       "      <td>[{'alias': 'pizza', 'title': 'Pizza'}]</td>\n",
       "      <td>2.5</td>\n",
       "      <td>{'latitude': 39.33086, 'longitude': -76.63161}</td>\n",
       "      <td>[delivery, pickup]</td>\n",
       "      <td>$$</td>\n",
       "      <td>{'address1': '907 W 36th St', 'address2': None...</td>\n",
       "      <td>+14108893663</td>\n",
       "      <td>(410) 889-3663</td>\n",
       "      <td>4382.210159</td>\n",
       "    </tr>\n",
       "    <tr>\n",
       "      <th>425</th>\n",
       "      <td>EWkA_yQ1VPa7cHbkiBbawA</td>\n",
       "      <td>phillys-best-baltimore</td>\n",
       "      <td>Philly's Best</td>\n",
       "      <td>https://s3-media4.fl.yelpcdn.com/bphoto/CXQdUz...</td>\n",
       "      <td>False</td>\n",
       "      <td>https://www.yelp.com/biz/phillys-best-baltimor...</td>\n",
       "      <td>45</td>\n",
       "      <td>[{'alias': 'pizza', 'title': 'Pizza'}, {'alias...</td>\n",
       "      <td>3.0</td>\n",
       "      <td>{'latitude': 39.33084, 'longitude': -76.63393}</td>\n",
       "      <td>[delivery, pickup]</td>\n",
       "      <td>$</td>\n",
       "      <td>{'address1': '1101 W 36th St', 'address2': '',...</td>\n",
       "      <td>+14102431301</td>\n",
       "      <td>(410) 243-1301</td>\n",
       "      <td>4467.724059</td>\n",
       "    </tr>\n",
       "  </tbody>\n",
       "</table>\n",
       "</div>"
      ],
      "text/plain": [
       "                         id                               alias  \\\n",
       "421  BRJ1HbKcfDg7axFWWhUNzA        golden-west-cafe-baltimore-3   \n",
       "422  nA8hY_b-yD4U_PQGWGmw9Q  american-wings-and-pizza-baltimore   \n",
       "423  WVQqkLAKowuIe51IVNXCZA        outback-steakhouse-baltimore   \n",
       "424  rtlLrtUn35c9Y2eIcxHT8g    kings-pizza-and-subs-baltimore-2   \n",
       "425  EWkA_yQ1VPa7cHbkiBbawA              phillys-best-baltimore   \n",
       "\n",
       "                       name  \\\n",
       "421        Golden West Cafe   \n",
       "422  American Wings & Pizza   \n",
       "423      Outback Steakhouse   \n",
       "424     King's Pizza & Subs   \n",
       "425           Philly's Best   \n",
       "\n",
       "                                             image_url  is_closed  \\\n",
       "421  https://s3-media2.fl.yelpcdn.com/bphoto/Tq43MA...      False   \n",
       "422  https://s3-media2.fl.yelpcdn.com/bphoto/mYgJ5p...      False   \n",
       "423  https://s3-media2.fl.yelpcdn.com/bphoto/NzwBx9...      False   \n",
       "424  https://s3-media2.fl.yelpcdn.com/bphoto/9FEdeU...      False   \n",
       "425  https://s3-media4.fl.yelpcdn.com/bphoto/CXQdUz...      False   \n",
       "\n",
       "                                                   url  review_count  \\\n",
       "421  https://www.yelp.com/biz/golden-west-cafe-balt...           861   \n",
       "422  https://www.yelp.com/biz/american-wings-and-pi...            59   \n",
       "423  https://www.yelp.com/biz/outback-steakhouse-ba...           135   \n",
       "424  https://www.yelp.com/biz/kings-pizza-and-subs-...            75   \n",
       "425  https://www.yelp.com/biz/phillys-best-baltimor...            45   \n",
       "\n",
       "                                            categories  rating  \\\n",
       "421  [{'alias': 'cafes', 'title': 'Cafes'}, {'alias...     3.5   \n",
       "422  [{'alias': 'pizza', 'title': 'Pizza'}, {'alias...     2.5   \n",
       "423       [{'alias': 'steak', 'title': 'Steakhouses'}]     3.0   \n",
       "424             [{'alias': 'pizza', 'title': 'Pizza'}]     2.5   \n",
       "425  [{'alias': 'pizza', 'title': 'Pizza'}, {'alias...     3.0   \n",
       "\n",
       "                                           coordinates        transactions  \\\n",
       "421  {'latitude': 39.3308895, 'longitude': -76.6340...  [delivery, pickup]   \n",
       "422      {'latitude': 39.3165, 'longitude': -76.61556}  [delivery, pickup]   \n",
       "423  {'latitude': 39.2817468, 'longitude': -76.5816...  [delivery, pickup]   \n",
       "424     {'latitude': 39.33086, 'longitude': -76.63161}  [delivery, pickup]   \n",
       "425     {'latitude': 39.33084, 'longitude': -76.63393}  [delivery, pickup]   \n",
       "\n",
       "    price                                           location         phone  \\\n",
       "421    $$  {'address1': '1105 W 36th St', 'address2': '',...  +14108898891   \n",
       "422     $  {'address1': '2400 St Paul St', 'address2': ''...  +14102352300   \n",
       "423    $$  {'address1': '2400 Boston St', 'address2': '',...  +14105227757   \n",
       "424    $$  {'address1': '907 W 36th St', 'address2': None...  +14108893663   \n",
       "425     $  {'address1': '1101 W 36th St', 'address2': '',...  +14102431301   \n",
       "\n",
       "      display_phone     distance  \n",
       "421  (410) 889-8891  4475.257151  \n",
       "422  (410) 235-2300  2361.614576  \n",
       "423  (410) 522-7757  2755.986468  \n",
       "424  (410) 889-3663  4382.210159  \n",
       "425  (410) 243-1301  4467.724059  "
      ]
     },
     "metadata": {},
     "output_type": "display_data"
    }
   ],
   "source": [
    "# load final results\n",
    "final_df = pd.read_json(JSON_FILE)\n",
    "display(final_df.head(), final_df.tail())"
   ]
  },
  {
   "cell_type": "markdown",
   "id": "78aa7c1c",
   "metadata": {},
   "source": [
    "Check for duplicates"
   ]
  },
  {
   "cell_type": "code",
   "execution_count": 16,
   "id": "40a505a7",
   "metadata": {},
   "outputs": [
    {
     "data": {
      "text/plain": [
       "0"
      ]
     },
     "execution_count": 16,
     "metadata": {},
     "output_type": "execute_result"
    }
   ],
   "source": [
    "# check for duplicate IDs\n",
    "final_df.duplicated(subset='id').sum()"
   ]
  },
  {
   "cell_type": "code",
   "execution_count": 17,
   "id": "72319a7a",
   "metadata": {},
   "outputs": [],
   "source": [
    "# save the final results to a compressed csv\n",
    "final_df.to_csv('Data/final_results_crab_cakes.csv.gz', compression='gzip',index=False)"
   ]
  }
 ],
 "metadata": {
  "kernelspec": {
   "display_name": "Python (dojo-env)",
   "language": "python",
   "name": "dojo.env"
  },
  "language_info": {
   "codemirror_mode": {
    "name": "ipython",
    "version": 3
   },
   "file_extension": ".py",
   "mimetype": "text/x-python",
   "name": "python",
   "nbconvert_exporter": "python",
   "pygments_lexer": "ipython3",
   "version": "3.7.12"
  },
  "toc": {
   "base_numbering": 1,
   "nav_menu": {},
   "number_sections": false,
   "sideBar": true,
   "skip_h1_title": false,
   "title_cell": "Table of Contents",
   "title_sidebar": "Contents",
   "toc_cell": false,
   "toc_position": {},
   "toc_section_display": true,
   "toc_window_display": false
  }
 },
 "nbformat": 4,
 "nbformat_minor": 5
}
